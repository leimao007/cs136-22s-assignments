{
 "cells": [
  {
   "cell_type": "markdown",
   "metadata": {},
   "source": [
    "# COMP 136 day06 Lab: Dirichlet distributions and the Dirichlet-Categorical model for discrete outcomes"
   ]
  },
  {
   "cell_type": "code",
   "execution_count": 1,
   "metadata": {},
   "outputs": [],
   "source": [
    "import numpy as np\n",
    "import pandas as pd\n",
    "import scipy.stats\n",
    "\n",
    "np.set_printoptions(precision=3, suppress=False)\n",
    "\n",
    "pd.options.display.float_format = '{:,.3g}'.format  # show 4 digits of precision\n",
    "\n",
    "import matplotlib.pyplot as plt\n",
    "import seaborn as sns\n",
    "sns.set_style(\"whitegrid\")\n",
    "sns.set_context(\"notebook\", font_scale=1.25)\n",
    "\n",
    "prng = np.random.RandomState(0) ##Set our random state so things are reproducible."
   ]
  },
  {
   "cell_type": "markdown",
   "metadata": {},
   "source": [
    "## Dirichlet Distribution: Standard Numerical implementations\n",
    "\n",
    "You can use the built-in functions from SciPy to sample from this distribution:\n",
    "\n",
    "* To draw samples:\n",
    "* * [`scipy.stats.dirichlet(hyperparameters).rvs(size=(nrows,ncols), random_state=SEED)`](https://docs.scipy.org/doc/scipy/reference/generated/scipy.stats.dirichlet.html)\n",
    "* * OR [`np.random.dirichlet(hyperparameters)`](https://numpy.org/doc/stable/reference/random/generated/numpy.random.dirichlet.html)\n",
    "\n",
    "* To evaluate the PDF:\n",
    "* * Evaluate pdf with `scipy.stats.<distribution>(hyperparameters).pdf(values)` (can use the `logpdf` instead of `pdf`)\n",
    "\n",
    "See <https://docs.scipy.org/doc/scipy/reference/generated/scipy.stats.dirichlet.html>\n"
   ]
  },
  {
   "cell_type": "markdown",
   "metadata": {},
   "source": [
    "# Setup Visualization: Plotting V=3 samples on the 'triangle'\n",
    "\n",
    "This code below just defines a function to help us visualize a provided array of samples of vector mu. \n",
    "* Visualizing V-ary dirichlets (with 3 categories) can be done with a triangle view (since the actual space of allowed parameters has 2 effective dimensions on one plane)\n",
    "\n",
    "Don't worry too much about understanding the details, so feel free to skip ahead."
   ]
  },
  {
   "cell_type": "code",
   "execution_count": 2,
   "metadata": {},
   "outputs": [],
   "source": [
    "def show_samples_on_V3_triangle(mu_S3=None, ax_handle=None, transparency=1.0):\n",
    "    ''' Show samples from a Dirichlet on the triangle view of the V=3 simplex\n",
    "    \n",
    "    Create a triangle where each corner represents one extreme one-hot mu value\n",
    "    Then plot each sampled mu vector (in V=3 dim space) as a point on this triangle\n",
    "    \n",
    "    Args\n",
    "    ----\n",
    "    mu_S3 : None or 2D array, shape (n_samples, n_categories) = (S, V)\n",
    "        Provide many samples of 3-dimensional probability vectors\n",
    "        Each row of this array should sum to one.\n",
    "        Each sample vector will be visualized as a point on the triangle.\n",
    "        If None, just plot the triangle with no samples.\n",
    "    ax_handle : None or matplotlib axis handle\n",
    "        If an axis handle is provided, will draw triangle in this handle\n",
    "        If None, will create a new figure\n",
    "    transparency : float, between 0.0 and 1.0\n",
    "        Specifies the transparency of the samples.\n",
    "        When number of samples is small, defaults to 1.0 so each sample easy to see.\n",
    "        When number of samples is large, useful to set small (like 0.05) so density is visible.\n",
    "    \n",
    "    References\n",
    "    ----------\n",
    "    Many thanks to code here that inspired this\n",
    "    http://y-okamoto-psy1949.la.coocan.jp/Python/en1/Dirichlet/\n",
    "    '''\n",
    "    # Create new figure if needed\n",
    "    if ax_handle is None:\n",
    "        plt.figure(figsize = (5, 5))\n",
    "        ax_handle = plt.gca()\n",
    "    else:\n",
    "        plt.sca(ax_handle)\n",
    "\n",
    "    # Create 3 vertices of an equilateral triangle\n",
    "    P1_12 = np.asarray([0.0, (3.0**0.5) - 1.0]).reshape((1,2))\n",
    "    P2_12 = np.array([-1.0, -1.0]).reshape((1,2))\n",
    "    P3_12 = np.array([1.0, -1.0]).reshape((1,2))\n",
    "    corners_32 = np.vstack([P1_12, P2_12, P3_12])\n",
    "    \n",
    "    # Draw the triangle\n",
    "    # be sure to complete outline by going back to first point\n",
    "    corners_42 = np.vstack([corners_32, P1_12])\n",
    "    ax_handle.plot(corners_42[:,0], corners_42[:,1])\n",
    "    \n",
    "    # Label each vertex of the triangle\n",
    "    B = 0.2\n",
    "    ax_handle.text(P1_12[0,0] + B/2, P1_12[0,1] - B/3,\n",
    "                   '$\\mu = [1, 0, 0]$', fontsize = 12)\n",
    "    ax_handle.text(P2_12[0,0], P2_12[0,1] - B/2,\n",
    "                   '$\\mu = [0, 1, 0]$', fontsize = 12)\n",
    "    ax_handle.text(P3_12[0,0] - 3*B, P3_12[0,1] - B/2,\n",
    "                   '$\\mu = [0, 0, 1]$', fontsize = 12)\n",
    "\n",
    "    # Make plot pretty\n",
    "    ax_handle.set_yticks([]);\n",
    "    ax_handle.set_xticks([]);\n",
    "    sns.despine(top=True, right=True, left=True, bottom=True);\n",
    "    ax_handle.set_aspect('equal');\n",
    "\n",
    "    # Show provided sample points as points within the triangle\n",
    "    if mu_S3 is not None:\n",
    "        assert mu_S3.ndim == 2\n",
    "        S, V = mu_S3.shape\n",
    "        assert V == 3\n",
    "\n",
    "        points_S2 = np.dot(mu_S3, corners_32)\n",
    "        ax_handle.plot(points_S2[:,0], points_S2[:,1],\n",
    "                       '.', color='b', linewidth=0, alpha=transparency)"
   ]
  },
  {
   "cell_type": "markdown",
   "metadata": {},
   "source": [
    "# Show an interior value of mu\n",
    "\n",
    "The triangle's corners represent the 3 \"extreme\" possible values of $\\mu$\n",
    "\n",
    "We show a particular $\\mu$ vector on the triangle plot, marked by the blue dot"
   ]
  },
  {
   "cell_type": "code",
   "execution_count": 3,
   "metadata": {},
   "outputs": [
    {
     "name": "stdout",
     "output_type": "stream",
     "text": [
      "Plotting mu_1V\n",
      "-------------\n",
      "[[0.05 0.15 0.8 ]]\n"
     ]
    },
    {
     "data": {
      "image/png": "[encoded data removed]",
      "text/plain": [
       "<Figure size 360x360 with 1 Axes>"
      ]
     },
     "metadata": {},
     "output_type": "display_data"
    }
   ],
   "source": [
    "mu_1V = np.asarray([[0.05, 0.15, 0.8]])\n",
    "\n",
    "print(\"Plotting mu_1V\")\n",
    "print(\"-------------\")\n",
    "print(mu_1V)\n",
    "\n",
    "show_samples_on_V3_triangle(mu_1V)"
   ]
  },
  {
   "cell_type": "markdown",
   "metadata": {},
   "source": [
    "# 1a: Does the location of the plotted mu as a dot within the triangle make sense?"
   ]
  },
  {
   "cell_type": "markdown",
   "metadata": {},
   "source": [
    "TODO discuss"
   ]
  },
  {
   "cell_type": "markdown",
   "metadata": {},
   "source": [
    "## 1b: Generate and visualize samples from a dirichlet with alpha =  [7, 2, 1]\n",
    "\n",
    "Let's generate many samples from a specific Dirichlet distribution, and practice visualizing it"
   ]
  },
  {
   "cell_type": "code",
   "execution_count": 4,
   "metadata": {},
   "outputs": [
    {
     "data": {
      "image/png": "[encoded data removed]",
      "text/plain": [
       "<Figure size 360x360 with 1 Axes>"
      ]
     },
     "metadata": {},
     "output_type": "display_data"
    }
   ],
   "source": [
    "V = 3\n",
    "alpha_V = np.asarray([7, 2, 1])\n",
    "\n",
    "# First, make a 2D array that is (n_samples, n_categories) = (S, V)\n",
    "S = 10000\n",
    "mu_SV = np.zeros((S, V))\n",
    "\n",
    "# Fill in this array with samples from a dirichlet over V categories\n",
    "for s in range(S):\n",
    "    mu_SV[s] = prng.dirichlet(alpha_V)\n",
    "    \n",
    "# Convert to a pandas data frame (easy to use with seaborn visualization library)\n",
    "mu_df = pd.DataFrame(mu_SV, columns=['$\\mu_1$', '$\\mu_2$', '$\\mu_3$'])\n",
    "\n",
    "# Show triangle plot of samples\n",
    "show_samples_on_V3_triangle(mu_df.values, transparency=0.05)"
   ]
  },
  {
   "cell_type": "markdown",
   "metadata": {},
   "source": [
    "## 1c: Generate and visualize samples from a dirichlet with alpha = [0.9, 0.5, 0.1]"
   ]
  },
  {
   "cell_type": "code",
   "execution_count": 5,
   "metadata": {},
   "outputs": [],
   "source": [
    "# TODO write code based on the code above to sample and visualize the specified dirichlet distribution"
   ]
  },
  {
   "cell_type": "markdown",
   "metadata": {},
   "source": [
    "## 1d: Specify an alpha that encodes the following prior knowledge\n",
    "\n",
    "We want to encode a prior that says we expect dimension 2 to be much more likely than dimensions 0 or 1.\n",
    "\n",
    "TODO: Write down an alpha = [alpha_0, alpha_1, alpha_2] that encodes this information"
   ]
  },
  {
   "cell_type": "markdown",
   "metadata": {},
   "source": [
    "## 1e: Generate and visualize samples from a dirichlet with the alpha you specified.  Does it have the property you designed it to have?\n",
    "\n",
    "I.e. do the samples concentrate towards the part of the triangle where mu = [0, 0, 1]?"
   ]
  },
  {
   "cell_type": "code",
   "execution_count": 6,
   "metadata": {},
   "outputs": [],
   "source": [
    "# TODO write code based on the code above to sample and visualize your dirichlet distribution"
   ]
  }
 ],
 "metadata": {
  "kernelspec": {
   "display_name": "Python 3 (ipykernel)",
   "language": "python",
   "name": "python3"
  },
  "language_info": {
   "codemirror_mode": {
    "name": "ipython",
    "version": 3
   },
   "file_extension": ".py",
   "mimetype": "text/x-python",
   "name": "python",
   "nbconvert_exporter": "python",
   "pygments_lexer": "ipython3",
   "version": "3.9.7"
  }
 },
 "nbformat": 4,
 "nbformat_minor": 2
}
